{
 "cells": [
  {
   "cell_type": "markdown",
   "metadata": {
    "collapsed": true
   },
   "source": [
    "# Load Libraries"
   ]
  },
  {
   "cell_type": "code",
   "execution_count": 75,
   "metadata": {},
   "outputs": [],
   "source": [
    "%matplotlib inline\n",
    "\n",
    "import numpy as np\n",
    "import pandas as pd\n",
    "import statsmodels.formula.api as smf\n",
    "import matplotlib.pyplot as plt\n",
    "\n",
    "from scipy.stats import norm"
   ]
  },
  {
   "cell_type": "markdown",
   "metadata": {},
   "source": [
    "# Read Data"
   ]
  },
  {
   "cell_type": "code",
   "execution_count": 76,
   "metadata": {
    "scrolled": true
   },
   "outputs": [],
   "source": [
    "data = 'Brazil_1996PNAD.out'\n",
    "\n",
    "# drop observations with 0 earnings\n",
    "df = pd.read_csv(data, sep='\\t', encoding='utf-8')\\\n",
    "    .query('MONTHLY_EARNINGS != 0')\\\n",
    "    .assign(log_earnings=lambda x: np.log(x.MONTHLY_EARNINGS))"
   ]
  },
  {
   "cell_type": "markdown",
   "metadata": {},
   "source": [
    "# 1a"
   ]
  },
  {
   "cell_type": "code",
   "execution_count": 77,
   "metadata": {},
   "outputs": [
    {
     "data": {
      "text/html": [
       "<table class=\"simpletable\">\n",
       "<caption>OLS Regression Results</caption>\n",
       "<tr>\n",
       "  <th>Dep. Variable:</th>      <td>log_earnings</td>   <th>  R-squared:         </th> <td>   0.462</td> \n",
       "</tr>\n",
       "<tr>\n",
       "  <th>Model:</th>                   <td>OLS</td>       <th>  Adj. R-squared:    </th> <td>   0.462</td> \n",
       "</tr>\n",
       "<tr>\n",
       "  <th>Method:</th>             <td>Least Squares</td>  <th>  F-statistic:       </th> <td>1.904e+04</td>\n",
       "</tr>\n",
       "<tr>\n",
       "  <th>Date:</th>             <td>Fri, 06 Apr 2018</td> <th>  Prob (F-statistic):</th>  <td>  0.00</td>  \n",
       "</tr>\n",
       "<tr>\n",
       "  <th>Time:</th>                 <td>14:01:29</td>     <th>  Log-Likelihood:    </th> <td> -77088.</td> \n",
       "</tr>\n",
       "<tr>\n",
       "  <th>No. Observations:</th>      <td> 66506</td>      <th>  AIC:               </th> <td>1.542e+05</td>\n",
       "</tr>\n",
       "<tr>\n",
       "  <th>Df Residuals:</th>          <td> 66502</td>      <th>  BIC:               </th> <td>1.542e+05</td>\n",
       "</tr>\n",
       "<tr>\n",
       "  <th>Df Model:</th>              <td>     3</td>      <th>                     </th>     <td> </td>    \n",
       "</tr>\n",
       "<tr>\n",
       "  <th>Covariance Type:</th>      <td>nonrobust</td>    <th>                     </th>     <td> </td>    \n",
       "</tr>\n",
       "</table>\n",
       "<table class=\"simpletable\">\n",
       "<tr>\n",
       "             <td></td>               <th>coef</th>     <th>std err</th>      <th>t</th>      <th>P>|t|</th>  <th>[0.025</th>    <th>0.975]</th>  \n",
       "</tr>\n",
       "<tr>\n",
       "  <th>Intercept</th>              <td>    2.8243</td> <td>    0.021</td> <td>  137.350</td> <td> 0.000</td> <td>    2.784</td> <td>    2.865</td>\n",
       "</tr>\n",
       "<tr>\n",
       "  <th>YRSSCH</th>                 <td>    0.1459</td> <td>    0.001</td> <td>  196.232</td> <td> 0.000</td> <td>    0.144</td> <td>    0.147</td>\n",
       "</tr>\n",
       "<tr>\n",
       "  <th>AgeInDays</th>              <td>    0.0979</td> <td>    0.001</td> <td>   89.456</td> <td> 0.000</td> <td>    0.096</td> <td>    0.100</td>\n",
       "</tr>\n",
       "<tr>\n",
       "  <th>np.power(AgeInDays, 2)</th> <td>   -0.0010</td> <td> 1.33e-05</td> <td>  -73.097</td> <td> 0.000</td> <td>   -0.001</td> <td>   -0.001</td>\n",
       "</tr>\n",
       "</table>\n",
       "<table class=\"simpletable\">\n",
       "<tr>\n",
       "  <th>Omnibus:</th>       <td>1540.444</td> <th>  Durbin-Watson:     </th> <td>   1.601</td>\n",
       "</tr>\n",
       "<tr>\n",
       "  <th>Prob(Omnibus):</th>  <td> 0.000</td>  <th>  Jarque-Bera (JB):  </th> <td>3390.926</td>\n",
       "</tr>\n",
       "<tr>\n",
       "  <th>Skew:</th>           <td> 0.091</td>  <th>  Prob(JB):          </th> <td>    0.00</td>\n",
       "</tr>\n",
       "<tr>\n",
       "  <th>Kurtosis:</th>       <td> 4.091</td>  <th>  Cond. No.          </th> <td>1.31e+04</td>\n",
       "</tr>\n",
       "</table>"
      ],
      "text/plain": [
       "<class 'statsmodels.iolib.summary.Summary'>\n",
       "\"\"\"\n",
       "                            OLS Regression Results                            \n",
       "==============================================================================\n",
       "Dep. Variable:           log_earnings   R-squared:                       0.462\n",
       "Model:                            OLS   Adj. R-squared:                  0.462\n",
       "Method:                 Least Squares   F-statistic:                 1.904e+04\n",
       "Date:                Fri, 06 Apr 2018   Prob (F-statistic):               0.00\n",
       "Time:                        14:01:29   Log-Likelihood:                -77088.\n",
       "No. Observations:               66506   AIC:                         1.542e+05\n",
       "Df Residuals:                   66502   BIC:                         1.542e+05\n",
       "Df Model:                           3                                         \n",
       "Covariance Type:            nonrobust                                         \n",
       "==========================================================================================\n",
       "                             coef    std err          t      P>|t|      [0.025      0.975]\n",
       "------------------------------------------------------------------------------------------\n",
       "Intercept                  2.8243      0.021    137.350      0.000       2.784       2.865\n",
       "YRSSCH                     0.1459      0.001    196.232      0.000       0.144       0.147\n",
       "AgeInDays                  0.0979      0.001     89.456      0.000       0.096       0.100\n",
       "np.power(AgeInDays, 2)    -0.0010   1.33e-05    -73.097      0.000      -0.001      -0.001\n",
       "==============================================================================\n",
       "Omnibus:                     1540.444   Durbin-Watson:                   1.601\n",
       "Prob(Omnibus):                  0.000   Jarque-Bera (JB):             3390.926\n",
       "Skew:                           0.091   Prob(JB):                         0.00\n",
       "Kurtosis:                       4.091   Cond. No.                     1.31e+04\n",
       "==============================================================================\n",
       "\n",
       "Warnings:\n",
       "[1] Standard Errors assume that the covariance matrix of the errors is correctly specified.\n",
       "[2] The condition number is large, 1.31e+04. This might indicate that there are\n",
       "strong multicollinearity or other numerical problems.\n",
       "\"\"\""
      ]
     },
     "execution_count": 77,
     "metadata": {},
     "output_type": "execute_result"
    }
   ],
   "source": [
    "reg = smf.ols('log_earnings ~ YRSSCH + AgeInDays + np.power(AgeInDays, 2)', data=df).fit()\n",
    "reg.summary()"
   ]
  },
  {
   "cell_type": "markdown",
   "metadata": {},
   "source": [
    "# 1b"
   ]
  },
  {
   "cell_type": "code",
   "execution_count": 78,
   "metadata": {
    "scrolled": true
   },
   "outputs": [
    {
     "data": {
      "text/html": [
       "<table class=\"simpletable\">\n",
       "<caption>OLS Regression Results</caption>\n",
       "<tr>\n",
       "  <th>Dep. Variable:</th>      <td>log_earnings</td>   <th>  R-squared:         </th> <td>   0.469</td> \n",
       "</tr>\n",
       "<tr>\n",
       "  <th>Model:</th>                   <td>OLS</td>       <th>  Adj. R-squared:    </th> <td>   0.469</td> \n",
       "</tr>\n",
       "<tr>\n",
       "  <th>Method:</th>             <td>Least Squares</td>  <th>  F-statistic:       </th> <td>   3457.</td> \n",
       "</tr>\n",
       "<tr>\n",
       "  <th>Date:</th>             <td>Fri, 06 Apr 2018</td> <th>  Prob (F-statistic):</th>  <td>  0.00</td>  \n",
       "</tr>\n",
       "<tr>\n",
       "  <th>Time:</th>                 <td>14:01:30</td>     <th>  Log-Likelihood:    </th> <td> -76641.</td> \n",
       "</tr>\n",
       "<tr>\n",
       "  <th>No. Observations:</th>      <td> 66506</td>      <th>  AIC:               </th> <td>1.533e+05</td>\n",
       "</tr>\n",
       "<tr>\n",
       "  <th>Df Residuals:</th>          <td> 66488</td>      <th>  BIC:               </th> <td>1.535e+05</td>\n",
       "</tr>\n",
       "<tr>\n",
       "  <th>Df Model:</th>              <td>    17</td>      <th>                     </th>     <td> </td>    \n",
       "</tr>\n",
       "<tr>\n",
       "  <th>Covariance Type:</th>      <td>nonrobust</td>    <th>                     </th>     <td> </td>    \n",
       "</tr>\n",
       "</table>\n",
       "<table class=\"simpletable\">\n",
       "<tr>\n",
       "             <td></td>               <th>coef</th>     <th>std err</th>      <th>t</th>      <th>P>|t|</th>  <th>[0.025</th>    <th>0.975]</th>  \n",
       "</tr>\n",
       "<tr>\n",
       "  <th>C(YRSSCH)[0]</th>           <td>    2.8800</td> <td>    0.022</td> <td>  129.255</td> <td> 0.000</td> <td>    2.836</td> <td>    2.924</td>\n",
       "</tr>\n",
       "<tr>\n",
       "  <th>C(YRSSCH)[1]</th>           <td>    3.0687</td> <td>    0.026</td> <td>  117.541</td> <td> 0.000</td> <td>    3.017</td> <td>    3.120</td>\n",
       "</tr>\n",
       "<tr>\n",
       "  <th>C(YRSSCH)[2]</th>           <td>    3.2048</td> <td>    0.024</td> <td>  133.614</td> <td> 0.000</td> <td>    3.158</td> <td>    3.252</td>\n",
       "</tr>\n",
       "<tr>\n",
       "  <th>C(YRSSCH)[3]</th>           <td>    3.3333</td> <td>    0.023</td> <td>  145.056</td> <td> 0.000</td> <td>    3.288</td> <td>    3.378</td>\n",
       "</tr>\n",
       "<tr>\n",
       "  <th>C(YRSSCH)[4]</th>           <td>    3.5327</td> <td>    0.022</td> <td>  158.665</td> <td> 0.000</td> <td>    3.489</td> <td>    3.576</td>\n",
       "</tr>\n",
       "<tr>\n",
       "  <th>C(YRSSCH)[5]</th>           <td>    3.6145</td> <td>    0.022</td> <td>  161.958</td> <td> 0.000</td> <td>    3.571</td> <td>    3.658</td>\n",
       "</tr>\n",
       "<tr>\n",
       "  <th>C(YRSSCH)[6]</th>           <td>    3.7022</td> <td>    0.023</td> <td>  158.184</td> <td> 0.000</td> <td>    3.656</td> <td>    3.748</td>\n",
       "</tr>\n",
       "<tr>\n",
       "  <th>C(YRSSCH)[7]</th>           <td>    3.7607</td> <td>    0.023</td> <td>  160.201</td> <td> 0.000</td> <td>    3.715</td> <td>    3.807</td>\n",
       "</tr>\n",
       "<tr>\n",
       "  <th>C(YRSSCH)[8]</th>           <td>    3.9456</td> <td>    0.023</td> <td>  170.713</td> <td> 0.000</td> <td>    3.900</td> <td>    3.991</td>\n",
       "</tr>\n",
       "<tr>\n",
       "  <th>C(YRSSCH)[9]</th>           <td>    4.0238</td> <td>    0.031</td> <td>  131.075</td> <td> 0.000</td> <td>    3.964</td> <td>    4.084</td>\n",
       "</tr>\n",
       "<tr>\n",
       "  <th>C(YRSSCH)[10]</th>          <td>    4.1311</td> <td>    0.029</td> <td>  144.271</td> <td> 0.000</td> <td>    4.075</td> <td>    4.187</td>\n",
       "</tr>\n",
       "<tr>\n",
       "  <th>C(YRSSCH)[11]</th>          <td>    4.4317</td> <td>    0.024</td> <td>  182.351</td> <td> 0.000</td> <td>    4.384</td> <td>    4.479</td>\n",
       "</tr>\n",
       "<tr>\n",
       "  <th>C(YRSSCH)[12]</th>          <td>    4.6758</td> <td>    0.043</td> <td>  107.940</td> <td> 0.000</td> <td>    4.591</td> <td>    4.761</td>\n",
       "</tr>\n",
       "<tr>\n",
       "  <th>C(YRSSCH)[13]</th>          <td>    4.8242</td> <td>    0.044</td> <td>  110.478</td> <td> 0.000</td> <td>    4.739</td> <td>    4.910</td>\n",
       "</tr>\n",
       "<tr>\n",
       "  <th>C(YRSSCH)[14]</th>          <td>    4.9098</td> <td>    0.042</td> <td>  116.473</td> <td> 0.000</td> <td>    4.827</td> <td>    4.992</td>\n",
       "</tr>\n",
       "<tr>\n",
       "  <th>C(YRSSCH)[15]</th>          <td>    5.3132</td> <td>    0.026</td> <td>  204.323</td> <td> 0.000</td> <td>    5.262</td> <td>    5.364</td>\n",
       "</tr>\n",
       "<tr>\n",
       "  <th>AgeInDays</th>              <td>    0.0963</td> <td>    0.001</td> <td>   87.474</td> <td> 0.000</td> <td>    0.094</td> <td>    0.098</td>\n",
       "</tr>\n",
       "<tr>\n",
       "  <th>np.power(AgeInDays, 2)</th> <td>   -0.0010</td> <td> 1.33e-05</td> <td>  -72.803</td> <td> 0.000</td> <td>   -0.001</td> <td>   -0.001</td>\n",
       "</tr>\n",
       "</table>\n",
       "<table class=\"simpletable\">\n",
       "<tr>\n",
       "  <th>Omnibus:</th>       <td>1665.913</td> <th>  Durbin-Watson:     </th> <td>   1.606</td>\n",
       "</tr>\n",
       "<tr>\n",
       "  <th>Prob(Omnibus):</th>  <td> 0.000</td>  <th>  Jarque-Bera (JB):  </th> <td>3826.433</td>\n",
       "</tr>\n",
       "<tr>\n",
       "  <th>Skew:</th>           <td> 0.090</td>  <th>  Prob(JB):          </th> <td>    0.00</td>\n",
       "</tr>\n",
       "<tr>\n",
       "  <th>Kurtosis:</th>       <td> 4.161</td>  <th>  Cond. No.          </th> <td>5.59e+04</td>\n",
       "</tr>\n",
       "</table>"
      ],
      "text/plain": [
       "<class 'statsmodels.iolib.summary.Summary'>\n",
       "\"\"\"\n",
       "                            OLS Regression Results                            \n",
       "==============================================================================\n",
       "Dep. Variable:           log_earnings   R-squared:                       0.469\n",
       "Model:                            OLS   Adj. R-squared:                  0.469\n",
       "Method:                 Least Squares   F-statistic:                     3457.\n",
       "Date:                Fri, 06 Apr 2018   Prob (F-statistic):               0.00\n",
       "Time:                        14:01:30   Log-Likelihood:                -76641.\n",
       "No. Observations:               66506   AIC:                         1.533e+05\n",
       "Df Residuals:                   66488   BIC:                         1.535e+05\n",
       "Df Model:                          17                                         \n",
       "Covariance Type:            nonrobust                                         \n",
       "==========================================================================================\n",
       "                             coef    std err          t      P>|t|      [0.025      0.975]\n",
       "------------------------------------------------------------------------------------------\n",
       "C(YRSSCH)[0]               2.8800      0.022    129.255      0.000       2.836       2.924\n",
       "C(YRSSCH)[1]               3.0687      0.026    117.541      0.000       3.017       3.120\n",
       "C(YRSSCH)[2]               3.2048      0.024    133.614      0.000       3.158       3.252\n",
       "C(YRSSCH)[3]               3.3333      0.023    145.056      0.000       3.288       3.378\n",
       "C(YRSSCH)[4]               3.5327      0.022    158.665      0.000       3.489       3.576\n",
       "C(YRSSCH)[5]               3.6145      0.022    161.958      0.000       3.571       3.658\n",
       "C(YRSSCH)[6]               3.7022      0.023    158.184      0.000       3.656       3.748\n",
       "C(YRSSCH)[7]               3.7607      0.023    160.201      0.000       3.715       3.807\n",
       "C(YRSSCH)[8]               3.9456      0.023    170.713      0.000       3.900       3.991\n",
       "C(YRSSCH)[9]               4.0238      0.031    131.075      0.000       3.964       4.084\n",
       "C(YRSSCH)[10]              4.1311      0.029    144.271      0.000       4.075       4.187\n",
       "C(YRSSCH)[11]              4.4317      0.024    182.351      0.000       4.384       4.479\n",
       "C(YRSSCH)[12]              4.6758      0.043    107.940      0.000       4.591       4.761\n",
       "C(YRSSCH)[13]              4.8242      0.044    110.478      0.000       4.739       4.910\n",
       "C(YRSSCH)[14]              4.9098      0.042    116.473      0.000       4.827       4.992\n",
       "C(YRSSCH)[15]              5.3132      0.026    204.323      0.000       5.262       5.364\n",
       "AgeInDays                  0.0963      0.001     87.474      0.000       0.094       0.098\n",
       "np.power(AgeInDays, 2)    -0.0010   1.33e-05    -72.803      0.000      -0.001      -0.001\n",
       "==============================================================================\n",
       "Omnibus:                     1665.913   Durbin-Watson:                   1.606\n",
       "Prob(Omnibus):                  0.000   Jarque-Bera (JB):             3826.433\n",
       "Skew:                           0.090   Prob(JB):                         0.00\n",
       "Kurtosis:                       4.161   Cond. No.                     5.59e+04\n",
       "==============================================================================\n",
       "\n",
       "Warnings:\n",
       "[1] Standard Errors assume that the covariance matrix of the errors is correctly specified.\n",
       "[2] The condition number is large, 5.59e+04. This might indicate that there are\n",
       "strong multicollinearity or other numerical problems.\n",
       "\"\"\""
      ]
     },
     "execution_count": 78,
     "metadata": {},
     "output_type": "execute_result"
    }
   ],
   "source": [
    "reg2 = smf.ols('log_earnings ~ C(YRSSCH) + AgeInDays + np.power(AgeInDays, 2) - 1', data=df).fit()\n",
    "reg2.summary()"
   ]
  },
  {
   "cell_type": "markdown",
   "metadata": {},
   "source": [
    "# 1c"
   ]
  },
  {
   "cell_type": "code",
   "execution_count": 79,
   "metadata": {},
   "outputs": [
    {
     "data": {
      "text/plain": [
       "<matplotlib.legend.Legend at 0x19dcfb65630>"
      ]
     },
     "execution_count": 79,
     "metadata": {},
     "output_type": "execute_result"
    },
    {
     "data": {
      "image/png": "[encoded data removed]",
      "text/plain": [
       "<matplotlib.figure.Figure at 0x19dcffde400>"
      ]
     },
     "metadata": {},
     "output_type": "display_data"
    }
   ],
   "source": [
    "# schooling years\n",
    "x = np.arange(0, 15)\n",
    "\n",
    "plt.figure()\n",
    "\n",
    "# part a\n",
    "p = reg.params\n",
    "line_a, = plt.plot(x, p[0] + p[1] * x + p[2] * 40 + p[3] * 40 ** 2,\n",
    "                  label='a')\n",
    "\n",
    "# part b\n",
    "p2 = reg2.params\n",
    "line_b, = plt.plot(x, p2[x] + p2[16] * 40 + p2[17] * 40 ** 2,\n",
    "                  label='b')\n",
    "\n",
    "# plot\n",
    "plt.legend(handles=[line_a, line_b])"
   ]
  },
  {
   "cell_type": "markdown",
   "metadata": {},
   "source": [
    "# 1d"
   ]
  },
  {
   "cell_type": "code",
   "execution_count": 80,
   "metadata": {},
   "outputs": [
    {
     "data": {
      "text/plain": [
       "(array([5.00e+00, 0.00e+00, 4.00e+00, 1.00e+00, 3.00e+00, 5.00e+00,\n",
       "        2.70e+01, 2.70e+01, 2.80e+01, 3.78e+02, 1.58e+02, 4.78e+02,\n",
       "        6.84e+02, 9.49e+02, 6.55e+02, 8.15e+02, 1.03e+03, 6.27e+02,\n",
       "        3.83e+02, 2.53e+02, 2.01e+02, 1.50e+02, 6.00e+01, 6.60e+01,\n",
       "        2.90e+01, 8.00e+00, 1.00e+01, 2.00e+00, 1.00e+00, 1.00e+00]),\n",
       " array([2.30258509, 2.54635911, 2.79013312, 3.03390713, 3.27768114,\n",
       "        3.52145516, 3.76522917, 4.00900318, 4.2527772 , 4.49655121,\n",
       "        4.74032522, 4.98409923, 5.22787325, 5.47164726, 5.71542127,\n",
       "        5.95919529, 6.2029693 , 6.44674331, 6.69051733, 6.93429134,\n",
       "        7.17806535, 7.42183936, 7.66561338, 7.90938739, 8.1531614 ,\n",
       "        8.39693542, 8.64070943, 8.88448344, 9.12825745, 9.37203147,\n",
       "        9.61580548]),\n",
       " <a list of 30 Patch objects>)"
      ]
     },
     "execution_count": 80,
     "metadata": {},
     "output_type": "execute_result"
    },
    {
     "data": {
      "image/png": "[encoded data removed]",
      "text/plain": [
       "<matplotlib.figure.Figure at 0x19dcff9de80>"
      ]
     },
     "metadata": {},
     "output_type": "display_data"
    },
    {
     "data": {
      "image/png": "[encoded data removed]",
      "text/plain": [
       "<matplotlib.figure.Figure at 0x19dcda1b5c0>"
      ]
     },
     "metadata": {},
     "output_type": "display_data"
    }
   ],
   "source": [
    "# YRSSCH == 0\n",
    "plt.figure()\n",
    "plt.hist(np.log(df[df.YRSSCH == 0].MONTHLY_EARNINGS), bins=30)\n",
    "\n",
    "# YRSSCH == 8\n",
    "plt.figure()\n",
    "plt.hist(np.log(df[df.YRSSCH == 8].MONTHLY_EARNINGS), bins=30)"
   ]
  },
  {
   "cell_type": "code",
   "execution_count": 81,
   "metadata": {},
   "outputs": [
    {
     "name": "stdout",
     "output_type": "stream",
     "text": [
      "count    9969.000000\n",
      "mean        4.993600\n",
      "std         0.809577\n",
      "min         1.386294\n",
      "25%         4.605170\n",
      "50%         4.941642\n",
      "75%         5.480639\n",
      "max         8.853665\n",
      "Name: MONTHLY_EARNINGS, dtype: float64\n",
      "count    7038.000000\n",
      "mean        5.997210\n",
      "std         0.804231\n",
      "min         2.302585\n",
      "25%         5.438079\n",
      "50%         5.991465\n",
      "75%         6.476972\n",
      "max         9.615805\n",
      "Name: MONTHLY_EARNINGS, dtype: float64\n"
     ]
    }
   ],
   "source": [
    "print(np.log(df[df.YRSSCH == 0].MONTHLY_EARNINGS).describe())\n",
    "print(np.log(df[df.YRSSCH == 8].MONTHLY_EARNINGS).describe())"
   ]
  },
  {
   "cell_type": "markdown",
   "metadata": {},
   "source": [
    "- Mean and median are higher for the (YRSSCH == 8) group (4.994 vs 5.997, 4.942 vs 5.991).\n",
    "- Standard deviations are about the same (0.810 vs 0.804).\n",
    "- Absolute spread is about the same (7.467 vs 7.31322). However, the IQR is higher for the (YRSSCH == 8) group (0.875 vs 1.039), suggesting that the distribution of the (YRSSCH == 8) group is less dense in the middle 50% and more dense in the tails."
   ]
  },
  {
   "cell_type": "markdown",
   "metadata": {},
   "source": [
    "# 1e"
   ]
  },
  {
   "cell_type": "code",
   "execution_count": 82,
   "metadata": {},
   "outputs": [],
   "source": [
    "# construct a new data frame\n",
    "# filter for observations with age between 20 and 60\n",
    "# assign observations to cells\n",
    "# sort\n",
    "df2 = df\\\n",
    "    .query('AgeInDays >= 20 & AgeInDays <= 60')\\\n",
    "    .assign(subcell=lambda x: (x.YRSSCH * 8 + np.minimum((x.AgeInDays - 20) // 5, 7)).astype('int'))\\\n",
    "    .sort_values(by=['subcell', 'log_earnings'], ascending=True)\n",
    "\n",
    "# subcells with at least 30 observations\n",
    "subcells_gte_30 = df2\\\n",
    "    .groupby('subcell')\\\n",
    "    .size().reset_index(name='size')\\\n",
    "    .query('size >= 30')\n",
    "\n",
    "# compute quantiles\n",
    "subcells_quantiles = df2\\\n",
    "    .query('subcell in @subcells_gte_30.subcell')\\\n",
    "    .groupby('subcell')\\\n",
    "    .log_earnings\\\n",
    "    .quantile([0.1, 0.25, 0.5, 0.75, 0.9])\\\n",
    "    .reset_index(name='value')\\\n",
    "    .rename(index=str, columns={'level_1': 'q'})\n",
    "\n",
    "# confidence level\n",
    "conf_level = 0.05\n",
    "\n",
    "# compute N, l, j, k\n",
    "subcells_quantiles = subcells_quantiles\\\n",
    "    .assign(N=lambda x: subcells_gte_30.loc[x.subcell, 'size'].values)\\\n",
    "    .assign(l=lambda x: norm.ppf(1 - conf_level / 2) * np.sqrt(x.N * x.q * (1 - x.q)))\\\n",
    "    .assign(j=lambda x: (np.maximum(1, np.floor(x.N * x.q - x.l)).astype('int')),\n",
    "            k=lambda x: (np.minimum(x.N, np.ceil(x.N * x.q + x.l)).astype('int')))\n",
    "\n",
    "# compute confidence intervals\n",
    "subcells_quantiles['ci0'] = subcells_quantiles.apply(axis=1,\n",
    "                                                     func=lambda x: df2[df2.subcell == x.subcell].log_earnings.iloc[int(x.j - 1)])\n",
    "subcells_quantiles['ci1'] = subcells_quantiles.apply(axis=1,\n",
    "                                                     func=lambda x: df2[df2.subcell == x.subcell].log_earnings.iloc[int(x.k - 1)])\n",
    "\n",
    "# compute SE\n",
    "subcells_quantiles = subcells_quantiles\\\n",
    "    .assign(se=lambda x: np.sqrt(x.N * (x.ci1 - x.ci0) ** 2 / 4 / (norm.ppf(1 - conf_level / 2) ** 2)))"
   ]
  },
  {
   "cell_type": "markdown",
   "metadata": {},
   "source": [
    "# 1f"
   ]
  },
  {
   "cell_type": "code",
   "execution_count": 87,
   "metadata": {},
   "outputs": [
    {
     "name": "stdout",
     "output_type": "stream",
     "text": [
      "41577     280\n",
      "96139     240\n",
      "12261     200\n",
      "65220    1962\n",
      "98160     150\n",
      "55726     112\n",
      "1149      240\n",
      "10368     155\n",
      "812       300\n",
      "19729      20\n",
      "Name: MONTHLY_EARNINGS, dtype: int64\n"
     ]
    }
   ],
   "source": [
    "print(df.MONTHLY_EARNINGS.sample(10))"
   ]
  },
  {
   "cell_type": "markdown",
   "metadata": {},
   "source": [
    "- *MONTHLY_EARNINGS* is not continuously-valued, but discretely-valued. "
   ]
  },
  {
   "cell_type": "code",
   "execution_count": 84,
   "metadata": {},
   "outputs": [
    {
     "name": "stdout",
     "output_type": "stream",
     "text": [
      "3      0.0\n",
      "121    0.0\n",
      "140    0.0\n",
      "170    0.0\n",
      "175    0.0\n",
      "178    0.0\n",
      "200    0.0\n",
      "240    0.0\n",
      "280    0.0\n",
      "433    0.0\n",
      "444    0.0\n",
      "Name: se, dtype: float64\n"
     ]
    }
   ],
   "source": [
    "print(subcells_quantiles.query('se == 0').se)"
   ]
  },
  {
   "cell_type": "markdown",
   "metadata": {},
   "source": [
    "- There exist 0 standard error estimates. Since *MONTHLY_EARNINGS* is not continuously-valued, there are observations with same values of *MONTHLY_EARNINGS*, and if they are sufficiently many to cover the whole confidence interval, the resulting standard error estimate will be 0."
   ]
  },
  {
   "cell_type": "markdown",
   "metadata": {},
   "source": [
    "# 1g"
   ]
  },
  {
   "cell_type": "code",
   "execution_count": 85,
   "metadata": {
    "scrolled": true
   },
   "outputs": [
    {
     "name": "stdout",
     "output_type": "stream",
     "text": [
      "0.12719065059358461\n",
      "0.12873242478993707\n",
      "0.14221449916649698\n",
      "0.16103987296946956\n",
      "0.15294803447693406\n"
     ]
    }
   ],
   "source": [
    "# compute weights\n",
    "subcells_quantiles = subcells_quantiles\\\n",
    "    .query('se != 0')\\\n",
    "    .assign(p=lambda x: x.N / len(df2),\n",
    "            YRSSCH=lambda x: x.subcell // 8,\n",
    "            AgeInDays=lambda x: (x.subcell % 8) * 5 + 20 + 2.5)\\\n",
    "    .assign(w=lambda x: x.p / (x.se ** 2))\n",
    "\n",
    "# run WLS for each quantile\n",
    "reg_quantiles = []\n",
    "for q in [0.1, 0.25, 0.5, 0.75, 0.9]:\n",
    "    this_subset = subcells_quantiles.query('q == @q')\n",
    "    reg_quantiles.append(smf.wls('value ~ YRSSCH + AgeInDays + np.power(AgeInDays, 2)',\n",
    "                                 data=this_subset,\n",
    "                                 weights=this_subset.w).fit())\n",
    "\n",
    "for reg in reg_quantiles:\n",
    "    print(reg.params['YRSSCH'])"
   ]
  },
  {
   "cell_type": "markdown",
   "metadata": {},
   "source": [
    "- Coefficient on schooling is higher for higher quantiles; while it is 0.127 for the 10th quantile, it is 0.153 for the 90th quantile.\n",
    "- Part (a) gave 0.146, and part (b), allowing different intercepts for each schooling year, gave a similar result. However, part (a) and (b) only provide information on mean, and OLS assumes homoscedasticity of the error terms. The results from the quantile regression illustrate that the returns to schooling vary across workers within the same education group, and therefore suggest that homoscedasticity might not hold."
   ]
  },
  {
   "cell_type": "markdown",
   "metadata": {},
   "source": [
    "# 1h"
   ]
  },
  {
   "cell_type": "markdown",
   "metadata": {},
   "source": [
    "- In this problem set, we are interested in analyzing how earnings vary with education in Brazil. Our dataset contains 65,801 rows with data on education, age, monthly earnings, and other variables at an individual level.\n",
    "- We ran an OLS regression controlling for age, which estimated the coefficient on schooling as 0.146. Allowing different intercepts for each schooling year also produced a similar result. Thus, on average, one extra year of schooling increases monthly earnings approximately by 14.6%.\n",
    "- However, this OLS only provides information on mean, and it assumes homoscedasticity of the error terms. The results do not necessarily imply that schooling increases earnings uniformly within an education group. It is possible that the earnings gap between low and high income individuals within an education gorup widens as schooling increases.\n",
    "- One way to look at this possibility is quantile regression. We assigned observations into cells based on schooling and age, estimated conditional quantiles, and ran weighted least squares regression on the conditional quantiles.\n",
    "- The quantile regression showed that coefficient on schooling is higher for higher quantiles. Therefore, as schooling increases, the earnings gap between low and high income individuals widens within an education group. It also suggests that conditional income distribution might be heteroscedastic. "
   ]
  },
  {
   "cell_type": "markdown",
   "metadata": {},
   "source": [
    "# 1i"
   ]
  },
  {
   "cell_type": "code",
   "execution_count": 86,
   "metadata": {},
   "outputs": [
    {
     "data": {
      "text/plain": [
       "<matplotlib.collections.PolyCollection at 0x19dcfb2d6a0>"
      ]
     },
     "execution_count": 86,
     "metadata": {},
     "output_type": "execute_result"
    },
    {
     "data": {
      "image/png": "[encoded data removed]",
      "text/plain": [
       "<matplotlib.figure.Figure at 0x19dcd92fa58>"
      ]
     },
     "metadata": {},
     "output_type": "display_data"
    }
   ],
   "source": [
    "# compute quantiles\n",
    "subcells_quantiles2 = df2\\\n",
    "    .query('subcell in @subcells_gte_30.subcell')\\\n",
    "    .groupby('subcell')\\\n",
    "    .log_earnings\\\n",
    "    .quantile(np.arange(0.05, 0.96, 0.01))\\\n",
    "    .reset_index(name='value')\\\n",
    "    .rename(index=str, columns={'level_1': 'q'})\n",
    "\n",
    "# confidence level\n",
    "conf_level = 0.05\n",
    "\n",
    "# compute N, l, j, k\n",
    "subcells_quantiles2 = subcells_quantiles2\\\n",
    "    .assign(N=lambda x: subcells_gte_30.loc[x.subcell, 'size'].values)\\\n",
    "    .assign(l=lambda x: norm.ppf(1 - conf_level / 2) * np.sqrt(x.N * x.q * (1 - x.q)))\\\n",
    "    .assign(j=lambda x: (np.maximum(1, np.floor(x.N * x.q - x.l)).astype('int')),\n",
    "            k=lambda x: (np.minimum(x.N, np.ceil(x.N * x.q + x.l)).astype('int')))\n",
    "\n",
    "# compute confidence intervals\n",
    "subcells_quantiles2['ci0'] = subcells_quantiles2.apply(axis=1,\n",
    "                                                       func=lambda x: df2[df2.subcell == x.subcell].log_earnings.iloc[int(x.j - 1)])\n",
    "subcells_quantiles2['ci1'] = subcells_quantiles2.apply(axis=1,\n",
    "                                                       func=lambda x: df2[df2.subcell == x.subcell].log_earnings.iloc[int(x.k - 1)])\n",
    "\n",
    "# compute SE\n",
    "subcells_quantiles2 = subcells_quantiles2\\\n",
    "    .assign(se=lambda x: np.sqrt(x.N * (x.ci1 - x.ci0) ** 2 / 4 / (norm.ppf(1 - conf_level / 2) ** 2)))\n",
    "\n",
    "# compute weights\n",
    "subcells_quantiles2 = subcells_quantiles2\\\n",
    "    .query('se != 0')\\\n",
    "    .assign(p=lambda x: x.N / len(df2),\n",
    "            YRSSCH=lambda x: x.subcell // 8,\n",
    "            AgeInDays=lambda x: (x.subcell % 8) * 5 + 20 + 2.5)\\\n",
    "    .assign(w=lambda x: x.p / (x.se ** 2))\n",
    "\n",
    "# run WLS, store coefficient on schooling and its SE\n",
    "coefs = []\n",
    "ses = []\n",
    "for q in np.arange(0.05, 0.96, 0.01):\n",
    "    this_subset = subcells_quantiles2.query('q == @q')\n",
    "    this_reg = smf.wls('value ~ YRSSCH + AgeInDays + np.power(AgeInDays, 2)',\n",
    "                       data=this_subset,\n",
    "                       weights=this_subset.w).fit()\n",
    "    coefs.append(this_reg.params['YRSSCH'])\n",
    "    ses.append(this_reg.bse['YRSSCH'])\n",
    "\n",
    "# construct a data frame with quantiles, coef on schooling, SE\n",
    "reg_quantiles2 = pd.DataFrame({'q': np.arange(0.05, 0.96, 0.01),\n",
    "                               'coef': coefs,\n",
    "                               'se': ses})\n",
    "\n",
    "# plot\n",
    "x = np.arange(0.05, 0.96, 0.01)\n",
    "plt.figure()\n",
    "plt.plot(x, reg_quantiles2.coef[((x - 0.05) * 100).astype('int')])\n",
    "plt.fill_between(x,\n",
    "                 reg_quantiles2.coef[((x - 0.05) * 100).astype('int')] + norm.ppf(1 - conf_level / 2) * reg_quantiles2.se[((x - 0.05) * 100).astype('int')],\n",
    "                 reg_quantiles2.coef[((x - 0.05) * 100).astype('int')] - norm.ppf(1 - conf_level / 2) * reg_quantiles2.se[((x - 0.05) * 100).astype('int')],\n",
    "                 alpha=0.2)\n"
   ]
  },
  {
   "cell_type": "markdown",
   "metadata": {},
   "source": [
    "- Returns to schooling is relatively lower for lower income groups, and it increases as one moves up in the income distribution. However, roughly around at the median, it starts to fluctuate up and down instead of increasing."
   ]
  }
 ],
 "metadata": {
  "kernelspec": {
   "display_name": "Python 3",
   "language": "python",
   "name": "python3"
  },
  "language_info": {
   "codemirror_mode": {
    "name": "ipython",
    "version": 3
   },
   "file_extension": ".py",
   "mimetype": "text/x-python",
   "name": "python",
   "nbconvert_exporter": "python",
   "pygments_lexer": "ipython3",
   "version": "3.6.4"
  }
 },
 "nbformat": 4,
 "nbformat_minor": 1
}
